{
 "cells": [
  {
   "cell_type": "markdown",
   "id": "7d498e313ead11da",
   "metadata": {},
   "source": [
    "# 使用 LangChain 构建一个 RAG 应用\n",
    "\n",
    "## RAG 是什么\n",
    "\n",
    "RAG 是一种将检索到的文档上下文与大语言模型（LLM）结合起来生成答案的技术。\n",
    "\n",
    "整个过程主要分为以下几个步骤：\n",
    "\n",
    "1. 加载文档：将原始数据(来源可能是在线网站、本地文件、各类平台等)加载到 LangChain 中。\n",
    "1. 文档分割：将加载的文档分割成较小的块，以适应模型的上下文窗口，并更容易进行向量嵌入和检索。\n",
    "1. 存储嵌入：将分割后的文档内容嵌入到向量空间，并存储到向量数据库中，以便后续检索。\n",
    "1. 检索文档：通过查询向量数据库，检索与问题最相关的文档片段。\n",
    "1. 生成回答：将检索到的文档片段与用户问题组合，生成并返回答案。\n",
    "\n",
    "通过这些步骤，可以构建一个强大的问答系统，将复杂任务分解为更小的步骤并生成详细回答。\n",
    "\n",
    "![rag](../images/rag.png)"
   ]
  },
  {
   "cell_type": "markdown",
   "id": "7c81e6042067b1b",
   "metadata": {},
   "source": []
  },
  {
   "cell_type": "code",
   "id": "2ca81c8503e31157",
   "metadata": {
    "ExecuteTime": {
     "end_time": "2024-12-27T04:19:27.511463Z",
     "start_time": "2024-12-27T04:19:24.252316Z"
    }
   },
   "source": [
    "pip install langchain langchain_community langchain_chroma"
   ],
   "outputs": [
    {
     "name": "stdout",
     "output_type": "stream",
     "text": [
      "Looking in indexes: https://pypi.tuna.tsinghua.edu.cn/simple\r\n",
      "Requirement already satisfied: langchain in /Users/xuming/Downloads/openai-quickstart-main/.venv/lib/python3.13/site-packages (0.2.0)\r\n",
      "Requirement already satisfied: langchain_community in /Users/xuming/Downloads/openai-quickstart-main/.venv/lib/python3.13/site-packages (0.2.0)\r\n",
      "Requirement already satisfied: langchain_chroma in /Users/xuming/Downloads/openai-quickstart-main/.venv/lib/python3.13/site-packages (0.1.4)\r\n",
      "Requirement already satisfied: PyYAML>=5.3 in /Users/xuming/Downloads/openai-quickstart-main/.venv/lib/python3.13/site-packages (from langchain) (6.0.2)\r\n",
      "Requirement already satisfied: SQLAlchemy<3,>=1.4 in /Users/xuming/Downloads/openai-quickstart-main/.venv/lib/python3.13/site-packages (from langchain) (2.0.36)\r\n",
      "Requirement already satisfied: aiohttp<4.0.0,>=3.8.3 in /Users/xuming/Downloads/openai-quickstart-main/.venv/lib/python3.13/site-packages (from langchain) (3.11.11)\r\n",
      "Requirement already satisfied: dataclasses-json<0.7,>=0.5.7 in /Users/xuming/Downloads/openai-quickstart-main/.venv/lib/python3.13/site-packages (from langchain) (0.6.7)\r\n",
      "Collecting langchain-core<0.3.0,>=0.2.0 (from langchain)\r\n",
      "  Using cached https://pypi.tuna.tsinghua.edu.cn/packages/70/9b/b26405992d807a592ab3e7792f0eb2c2f71fe69111c972caf7786ba99199/langchain_core-0.2.43-py3-none-any.whl (397 kB)\r\n",
      "Requirement already satisfied: langchain-text-splitters<0.3.0,>=0.2.0 in /Users/xuming/Downloads/openai-quickstart-main/.venv/lib/python3.13/site-packages (from langchain) (0.2.0)\r\n",
      "Requirement already satisfied: langsmith<0.2.0,>=0.1.17 in /Users/xuming/Downloads/openai-quickstart-main/.venv/lib/python3.13/site-packages (from langchain) (0.1.147)\r\n",
      "Requirement already satisfied: numpy<2,>=1 in /Users/xuming/Downloads/openai-quickstart-main/.venv/lib/python3.13/site-packages (from langchain) (1.26.4)\r\n",
      "Requirement already satisfied: pydantic<3,>=1 in /Users/xuming/Downloads/openai-quickstart-main/.venv/lib/python3.13/site-packages (from langchain) (2.10.4)\r\n",
      "Requirement already satisfied: requests<3,>=2 in /Users/xuming/Downloads/openai-quickstart-main/.venv/lib/python3.13/site-packages (from langchain) (2.32.3)\r\n",
      "Requirement already satisfied: tenacity<9.0.0,>=8.1.0 in /Users/xuming/Downloads/openai-quickstart-main/.venv/lib/python3.13/site-packages (from langchain) (8.5.0)\r\n",
      "Requirement already satisfied: chromadb!=0.5.4,!=0.5.5,<0.6.0,>=0.4.0 in /Users/xuming/Downloads/openai-quickstart-main/.venv/lib/python3.13/site-packages (from langchain_chroma) (0.5.23)\r\n",
      "Requirement already satisfied: fastapi<1,>=0.95.2 in /Users/xuming/Downloads/openai-quickstart-main/.venv/lib/python3.13/site-packages (from langchain_chroma) (0.115.6)\r\n",
      "Requirement already satisfied: aiohappyeyeballs>=2.3.0 in /Users/xuming/Downloads/openai-quickstart-main/.venv/lib/python3.13/site-packages (from aiohttp<4.0.0,>=3.8.3->langchain) (2.4.4)\r\n",
      "Requirement already satisfied: aiosignal>=1.1.2 in /Users/xuming/Downloads/openai-quickstart-main/.venv/lib/python3.13/site-packages (from aiohttp<4.0.0,>=3.8.3->langchain) (1.3.2)\r\n",
      "Requirement already satisfied: attrs>=17.3.0 in /Users/xuming/Downloads/openai-quickstart-main/.venv/lib/python3.13/site-packages (from aiohttp<4.0.0,>=3.8.3->langchain) (24.3.0)\r\n",
      "Requirement already satisfied: frozenlist>=1.1.1 in /Users/xuming/Downloads/openai-quickstart-main/.venv/lib/python3.13/site-packages (from aiohttp<4.0.0,>=3.8.3->langchain) (1.5.0)\r\n",
      "Requirement already satisfied: multidict<7.0,>=4.5 in /Users/xuming/Downloads/openai-quickstart-main/.venv/lib/python3.13/site-packages (from aiohttp<4.0.0,>=3.8.3->langchain) (6.1.0)\r\n",
      "Requirement already satisfied: propcache>=0.2.0 in /Users/xuming/Downloads/openai-quickstart-main/.venv/lib/python3.13/site-packages (from aiohttp<4.0.0,>=3.8.3->langchain) (0.2.1)\r\n",
      "Requirement already satisfied: yarl<2.0,>=1.17.0 in /Users/xuming/Downloads/openai-quickstart-main/.venv/lib/python3.13/site-packages (from aiohttp<4.0.0,>=3.8.3->langchain) (1.18.3)\r\n",
      "Requirement already satisfied: build>=1.0.3 in /Users/xuming/Downloads/openai-quickstart-main/.venv/lib/python3.13/site-packages (from chromadb!=0.5.4,!=0.5.5,<0.6.0,>=0.4.0->langchain_chroma) (1.2.2.post1)\r\n",
      "Requirement already satisfied: chroma-hnswlib==0.7.6 in /Users/xuming/Downloads/openai-quickstart-main/.venv/lib/python3.13/site-packages (from chromadb!=0.5.4,!=0.5.5,<0.6.0,>=0.4.0->langchain_chroma) (0.7.6)\r\n",
      "Requirement already satisfied: uvicorn>=0.18.3 in /Users/xuming/Downloads/openai-quickstart-main/.venv/lib/python3.13/site-packages (from uvicorn[standard]>=0.18.3->chromadb!=0.5.4,!=0.5.5,<0.6.0,>=0.4.0->langchain_chroma) (0.34.0)\r\n",
      "Requirement already satisfied: posthog>=2.4.0 in /Users/xuming/Downloads/openai-quickstart-main/.venv/lib/python3.13/site-packages (from chromadb!=0.5.4,!=0.5.5,<0.6.0,>=0.4.0->langchain_chroma) (3.7.4)\r\n",
      "Requirement already satisfied: typing_extensions>=4.5.0 in /Users/xuming/Downloads/openai-quickstart-main/.venv/lib/python3.13/site-packages (from chromadb!=0.5.4,!=0.5.5,<0.6.0,>=0.4.0->langchain_chroma) (4.12.2)\r\n",
      "Requirement already satisfied: onnxruntime>=1.14.1 in /Users/xuming/Downloads/openai-quickstart-main/.venv/lib/python3.13/site-packages (from chromadb!=0.5.4,!=0.5.5,<0.6.0,>=0.4.0->langchain_chroma) (1.20.1)\r\n",
      "Requirement already satisfied: opentelemetry-api>=1.2.0 in /Users/xuming/Downloads/openai-quickstart-main/.venv/lib/python3.13/site-packages (from chromadb!=0.5.4,!=0.5.5,<0.6.0,>=0.4.0->langchain_chroma) (1.29.0)\r\n",
      "Requirement already satisfied: opentelemetry-exporter-otlp-proto-grpc>=1.2.0 in /Users/xuming/Downloads/openai-quickstart-main/.venv/lib/python3.13/site-packages (from chromadb!=0.5.4,!=0.5.5,<0.6.0,>=0.4.0->langchain_chroma) (1.29.0)\r\n",
      "Requirement already satisfied: opentelemetry-instrumentation-fastapi>=0.41b0 in /Users/xuming/Downloads/openai-quickstart-main/.venv/lib/python3.13/site-packages (from chromadb!=0.5.4,!=0.5.5,<0.6.0,>=0.4.0->langchain_chroma) (0.50b0)\r\n",
      "Requirement already satisfied: opentelemetry-sdk>=1.2.0 in /Users/xuming/Downloads/openai-quickstart-main/.venv/lib/python3.13/site-packages (from chromadb!=0.5.4,!=0.5.5,<0.6.0,>=0.4.0->langchain_chroma) (1.29.0)\r\n",
      "Requirement already satisfied: tokenizers<=0.20.3,>=0.13.2 in /Users/xuming/Downloads/openai-quickstart-main/.venv/lib/python3.13/site-packages (from chromadb!=0.5.4,!=0.5.5,<0.6.0,>=0.4.0->langchain_chroma) (0.20.3)\r\n",
      "Requirement already satisfied: pypika>=0.48.9 in /Users/xuming/Downloads/openai-quickstart-main/.venv/lib/python3.13/site-packages (from chromadb!=0.5.4,!=0.5.5,<0.6.0,>=0.4.0->langchain_chroma) (0.48.9)\r\n",
      "Requirement already satisfied: tqdm>=4.65.0 in /Users/xuming/Downloads/openai-quickstart-main/.venv/lib/python3.13/site-packages (from chromadb!=0.5.4,!=0.5.5,<0.6.0,>=0.4.0->langchain_chroma) (4.67.1)\r\n",
      "Requirement already satisfied: overrides>=7.3.1 in /Users/xuming/Downloads/openai-quickstart-main/.venv/lib/python3.13/site-packages (from chromadb!=0.5.4,!=0.5.5,<0.6.0,>=0.4.0->langchain_chroma) (7.7.0)\r\n",
      "Requirement already satisfied: importlib-resources in /Users/xuming/Downloads/openai-quickstart-main/.venv/lib/python3.13/site-packages (from chromadb!=0.5.4,!=0.5.5,<0.6.0,>=0.4.0->langchain_chroma) (6.4.5)\r\n",
      "Requirement already satisfied: grpcio>=1.58.0 in /Users/xuming/Downloads/openai-quickstart-main/.venv/lib/python3.13/site-packages (from chromadb!=0.5.4,!=0.5.5,<0.6.0,>=0.4.0->langchain_chroma) (1.68.1)\r\n",
      "Requirement already satisfied: bcrypt>=4.0.1 in /Users/xuming/Downloads/openai-quickstart-main/.venv/lib/python3.13/site-packages (from chromadb!=0.5.4,!=0.5.5,<0.6.0,>=0.4.0->langchain_chroma) (4.2.1)\r\n",
      "Requirement already satisfied: typer>=0.9.0 in /Users/xuming/Downloads/openai-quickstart-main/.venv/lib/python3.13/site-packages (from chromadb!=0.5.4,!=0.5.5,<0.6.0,>=0.4.0->langchain_chroma) (0.15.1)\r\n",
      "Requirement already satisfied: kubernetes>=28.1.0 in /Users/xuming/Downloads/openai-quickstart-main/.venv/lib/python3.13/site-packages (from chromadb!=0.5.4,!=0.5.5,<0.6.0,>=0.4.0->langchain_chroma) (31.0.0)\r\n",
      "Requirement already satisfied: mmh3>=4.0.1 in /Users/xuming/Downloads/openai-quickstart-main/.venv/lib/python3.13/site-packages (from chromadb!=0.5.4,!=0.5.5,<0.6.0,>=0.4.0->langchain_chroma) (5.0.1)\r\n",
      "Requirement already satisfied: orjson>=3.9.12 in /Users/xuming/Downloads/openai-quickstart-main/.venv/lib/python3.13/site-packages (from chromadb!=0.5.4,!=0.5.5,<0.6.0,>=0.4.0->langchain_chroma) (3.10.12)\r\n",
      "Requirement already satisfied: httpx>=0.27.0 in /Users/xuming/Downloads/openai-quickstart-main/.venv/lib/python3.13/site-packages (from chromadb!=0.5.4,!=0.5.5,<0.6.0,>=0.4.0->langchain_chroma) (0.28.1)\r\n",
      "Requirement already satisfied: rich>=10.11.0 in /Users/xuming/Downloads/openai-quickstart-main/.venv/lib/python3.13/site-packages (from chromadb!=0.5.4,!=0.5.5,<0.6.0,>=0.4.0->langchain_chroma) (13.9.4)\r\n",
      "Requirement already satisfied: marshmallow<4.0.0,>=3.18.0 in /Users/xuming/Downloads/openai-quickstart-main/.venv/lib/python3.13/site-packages (from dataclasses-json<0.7,>=0.5.7->langchain) (3.23.2)\r\n",
      "Requirement already satisfied: typing-inspect<1,>=0.4.0 in /Users/xuming/Downloads/openai-quickstart-main/.venv/lib/python3.13/site-packages (from dataclasses-json<0.7,>=0.5.7->langchain) (0.9.0)\r\n",
      "Requirement already satisfied: starlette<0.42.0,>=0.40.0 in /Users/xuming/Downloads/openai-quickstart-main/.venv/lib/python3.13/site-packages (from fastapi<1,>=0.95.2->langchain_chroma) (0.41.3)\r\n",
      "Requirement already satisfied: jsonpatch<2.0,>=1.33 in /Users/xuming/Downloads/openai-quickstart-main/.venv/lib/python3.13/site-packages (from langchain-core<0.3.0,>=0.2.0->langchain) (1.33)\r\n",
      "Requirement already satisfied: packaging<25,>=23.2 in /Users/xuming/Downloads/openai-quickstart-main/.venv/lib/python3.13/site-packages (from langchain-core<0.3.0,>=0.2.0->langchain) (23.2)\r\n",
      "Requirement already satisfied: requests-toolbelt<2.0.0,>=1.0.0 in /Users/xuming/Downloads/openai-quickstart-main/.venv/lib/python3.13/site-packages (from langsmith<0.2.0,>=0.1.17->langchain) (1.0.0)\r\n",
      "Requirement already satisfied: annotated-types>=0.6.0 in /Users/xuming/Downloads/openai-quickstart-main/.venv/lib/python3.13/site-packages (from pydantic<3,>=1->langchain) (0.7.0)\r\n",
      "Requirement already satisfied: pydantic-core==2.27.2 in /Users/xuming/Downloads/openai-quickstart-main/.venv/lib/python3.13/site-packages (from pydantic<3,>=1->langchain) (2.27.2)\r\n",
      "Requirement already satisfied: charset-normalizer<4,>=2 in /Users/xuming/Downloads/openai-quickstart-main/.venv/lib/python3.13/site-packages (from requests<3,>=2->langchain) (3.4.1)\r\n",
      "Requirement already satisfied: idna<4,>=2.5 in /Users/xuming/Downloads/openai-quickstart-main/.venv/lib/python3.13/site-packages (from requests<3,>=2->langchain) (3.10)\r\n",
      "Requirement already satisfied: urllib3<3,>=1.21.1 in /Users/xuming/Downloads/openai-quickstart-main/.venv/lib/python3.13/site-packages (from requests<3,>=2->langchain) (2.3.0)\r\n",
      "Requirement already satisfied: certifi>=2017.4.17 in /Users/xuming/Downloads/openai-quickstart-main/.venv/lib/python3.13/site-packages (from requests<3,>=2->langchain) (2024.12.14)\r\n",
      "Requirement already satisfied: pyproject_hooks in /Users/xuming/Downloads/openai-quickstart-main/.venv/lib/python3.13/site-packages (from build>=1.0.3->chromadb!=0.5.4,!=0.5.5,<0.6.0,>=0.4.0->langchain_chroma) (1.2.0)\r\n",
      "Requirement already satisfied: anyio in /Users/xuming/Downloads/openai-quickstart-main/.venv/lib/python3.13/site-packages (from httpx>=0.27.0->chromadb!=0.5.4,!=0.5.5,<0.6.0,>=0.4.0->langchain_chroma) (4.7.0)\r\n",
      "Requirement already satisfied: httpcore==1.* in /Users/xuming/Downloads/openai-quickstart-main/.venv/lib/python3.13/site-packages (from httpx>=0.27.0->chromadb!=0.5.4,!=0.5.5,<0.6.0,>=0.4.0->langchain_chroma) (1.0.7)\r\n",
      "Requirement already satisfied: h11<0.15,>=0.13 in /Users/xuming/Downloads/openai-quickstart-main/.venv/lib/python3.13/site-packages (from httpcore==1.*->httpx>=0.27.0->chromadb!=0.5.4,!=0.5.5,<0.6.0,>=0.4.0->langchain_chroma) (0.14.0)\r\n",
      "Requirement already satisfied: jsonpointer>=1.9 in /Users/xuming/Downloads/openai-quickstart-main/.venv/lib/python3.13/site-packages (from jsonpatch<2.0,>=1.33->langchain-core<0.3.0,>=0.2.0->langchain) (3.0.0)\r\n",
      "Requirement already satisfied: six>=1.9.0 in /Users/xuming/Downloads/openai-quickstart-main/.venv/lib/python3.13/site-packages (from kubernetes>=28.1.0->chromadb!=0.5.4,!=0.5.5,<0.6.0,>=0.4.0->langchain_chroma) (1.17.0)\r\n",
      "Requirement already satisfied: python-dateutil>=2.5.3 in /Users/xuming/Downloads/openai-quickstart-main/.venv/lib/python3.13/site-packages (from kubernetes>=28.1.0->chromadb!=0.5.4,!=0.5.5,<0.6.0,>=0.4.0->langchain_chroma) (2.9.0.post0)\r\n",
      "Requirement already satisfied: google-auth>=1.0.1 in /Users/xuming/Downloads/openai-quickstart-main/.venv/lib/python3.13/site-packages (from kubernetes>=28.1.0->chromadb!=0.5.4,!=0.5.5,<0.6.0,>=0.4.0->langchain_chroma) (2.37.0)\r\n",
      "Requirement already satisfied: websocket-client!=0.40.0,!=0.41.*,!=0.42.*,>=0.32.0 in /Users/xuming/Downloads/openai-quickstart-main/.venv/lib/python3.13/site-packages (from kubernetes>=28.1.0->chromadb!=0.5.4,!=0.5.5,<0.6.0,>=0.4.0->langchain_chroma) (1.8.0)\r\n",
      "Requirement already satisfied: requests-oauthlib in /Users/xuming/Downloads/openai-quickstart-main/.venv/lib/python3.13/site-packages (from kubernetes>=28.1.0->chromadb!=0.5.4,!=0.5.5,<0.6.0,>=0.4.0->langchain_chroma) (2.0.0)\r\n",
      "Requirement already satisfied: oauthlib>=3.2.2 in /Users/xuming/Downloads/openai-quickstart-main/.venv/lib/python3.13/site-packages (from kubernetes>=28.1.0->chromadb!=0.5.4,!=0.5.5,<0.6.0,>=0.4.0->langchain_chroma) (3.2.2)\r\n",
      "Requirement already satisfied: durationpy>=0.7 in /Users/xuming/Downloads/openai-quickstart-main/.venv/lib/python3.13/site-packages (from kubernetes>=28.1.0->chromadb!=0.5.4,!=0.5.5,<0.6.0,>=0.4.0->langchain_chroma) (0.9)\r\n",
      "Requirement already satisfied: coloredlogs in /Users/xuming/Downloads/openai-quickstart-main/.venv/lib/python3.13/site-packages (from onnxruntime>=1.14.1->chromadb!=0.5.4,!=0.5.5,<0.6.0,>=0.4.0->langchain_chroma) (15.0.1)\r\n",
      "Requirement already satisfied: flatbuffers in /Users/xuming/Downloads/openai-quickstart-main/.venv/lib/python3.13/site-packages (from onnxruntime>=1.14.1->chromadb!=0.5.4,!=0.5.5,<0.6.0,>=0.4.0->langchain_chroma) (24.12.23)\r\n",
      "Requirement already satisfied: protobuf in /Users/xuming/Downloads/openai-quickstart-main/.venv/lib/python3.13/site-packages (from onnxruntime>=1.14.1->chromadb!=0.5.4,!=0.5.5,<0.6.0,>=0.4.0->langchain_chroma) (5.29.2)\r\n",
      "Requirement already satisfied: sympy in /Users/xuming/Downloads/openai-quickstart-main/.venv/lib/python3.13/site-packages (from onnxruntime>=1.14.1->chromadb!=0.5.4,!=0.5.5,<0.6.0,>=0.4.0->langchain_chroma) (1.13.3)\r\n",
      "Requirement already satisfied: deprecated>=1.2.6 in /Users/xuming/Downloads/openai-quickstart-main/.venv/lib/python3.13/site-packages (from opentelemetry-api>=1.2.0->chromadb!=0.5.4,!=0.5.5,<0.6.0,>=0.4.0->langchain_chroma) (1.2.15)\r\n",
      "Requirement already satisfied: importlib-metadata<=8.5.0,>=6.0 in /Users/xuming/Downloads/openai-quickstart-main/.venv/lib/python3.13/site-packages (from opentelemetry-api>=1.2.0->chromadb!=0.5.4,!=0.5.5,<0.6.0,>=0.4.0->langchain_chroma) (8.5.0)\r\n",
      "Requirement already satisfied: googleapis-common-protos~=1.52 in /Users/xuming/Downloads/openai-quickstart-main/.venv/lib/python3.13/site-packages (from opentelemetry-exporter-otlp-proto-grpc>=1.2.0->chromadb!=0.5.4,!=0.5.5,<0.6.0,>=0.4.0->langchain_chroma) (1.66.0)\r\n",
      "Requirement already satisfied: opentelemetry-exporter-otlp-proto-common==1.29.0 in /Users/xuming/Downloads/openai-quickstart-main/.venv/lib/python3.13/site-packages (from opentelemetry-exporter-otlp-proto-grpc>=1.2.0->chromadb!=0.5.4,!=0.5.5,<0.6.0,>=0.4.0->langchain_chroma) (1.29.0)\r\n",
      "Requirement already satisfied: opentelemetry-proto==1.29.0 in /Users/xuming/Downloads/openai-quickstart-main/.venv/lib/python3.13/site-packages (from opentelemetry-exporter-otlp-proto-grpc>=1.2.0->chromadb!=0.5.4,!=0.5.5,<0.6.0,>=0.4.0->langchain_chroma) (1.29.0)\r\n",
      "Requirement already satisfied: opentelemetry-instrumentation-asgi==0.50b0 in /Users/xuming/Downloads/openai-quickstart-main/.venv/lib/python3.13/site-packages (from opentelemetry-instrumentation-fastapi>=0.41b0->chromadb!=0.5.4,!=0.5.5,<0.6.0,>=0.4.0->langchain_chroma) (0.50b0)\r\n",
      "Requirement already satisfied: opentelemetry-instrumentation==0.50b0 in /Users/xuming/Downloads/openai-quickstart-main/.venv/lib/python3.13/site-packages (from opentelemetry-instrumentation-fastapi>=0.41b0->chromadb!=0.5.4,!=0.5.5,<0.6.0,>=0.4.0->langchain_chroma) (0.50b0)\r\n",
      "Requirement already satisfied: opentelemetry-semantic-conventions==0.50b0 in /Users/xuming/Downloads/openai-quickstart-main/.venv/lib/python3.13/site-packages (from opentelemetry-instrumentation-fastapi>=0.41b0->chromadb!=0.5.4,!=0.5.5,<0.6.0,>=0.4.0->langchain_chroma) (0.50b0)\r\n",
      "Requirement already satisfied: opentelemetry-util-http==0.50b0 in /Users/xuming/Downloads/openai-quickstart-main/.venv/lib/python3.13/site-packages (from opentelemetry-instrumentation-fastapi>=0.41b0->chromadb!=0.5.4,!=0.5.5,<0.6.0,>=0.4.0->langchain_chroma) (0.50b0)\r\n",
      "Requirement already satisfied: wrapt<2.0.0,>=1.0.0 in /Users/xuming/Downloads/openai-quickstart-main/.venv/lib/python3.13/site-packages (from opentelemetry-instrumentation==0.50b0->opentelemetry-instrumentation-fastapi>=0.41b0->chromadb!=0.5.4,!=0.5.5,<0.6.0,>=0.4.0->langchain_chroma) (1.17.0)\r\n",
      "Requirement already satisfied: asgiref~=3.0 in /Users/xuming/Downloads/openai-quickstart-main/.venv/lib/python3.13/site-packages (from opentelemetry-instrumentation-asgi==0.50b0->opentelemetry-instrumentation-fastapi>=0.41b0->chromadb!=0.5.4,!=0.5.5,<0.6.0,>=0.4.0->langchain_chroma) (3.8.1)\r\n",
      "Requirement already satisfied: monotonic>=1.5 in /Users/xuming/Downloads/openai-quickstart-main/.venv/lib/python3.13/site-packages (from posthog>=2.4.0->chromadb!=0.5.4,!=0.5.5,<0.6.0,>=0.4.0->langchain_chroma) (1.6)\r\n",
      "Requirement already satisfied: backoff>=1.10.0 in /Users/xuming/Downloads/openai-quickstart-main/.venv/lib/python3.13/site-packages (from posthog>=2.4.0->chromadb!=0.5.4,!=0.5.5,<0.6.0,>=0.4.0->langchain_chroma) (2.2.1)\r\n",
      "Requirement already satisfied: markdown-it-py>=2.2.0 in /Users/xuming/Downloads/openai-quickstart-main/.venv/lib/python3.13/site-packages (from rich>=10.11.0->chromadb!=0.5.4,!=0.5.5,<0.6.0,>=0.4.0->langchain_chroma) (3.0.0)\r\n",
      "Requirement already satisfied: pygments<3.0.0,>=2.13.0 in /Users/xuming/Downloads/openai-quickstart-main/.venv/lib/python3.13/site-packages (from rich>=10.11.0->chromadb!=0.5.4,!=0.5.5,<0.6.0,>=0.4.0->langchain_chroma) (2.18.0)\r\n",
      "Requirement already satisfied: huggingface-hub<1.0,>=0.16.4 in /Users/xuming/Downloads/openai-quickstart-main/.venv/lib/python3.13/site-packages (from tokenizers<=0.20.3,>=0.13.2->chromadb!=0.5.4,!=0.5.5,<0.6.0,>=0.4.0->langchain_chroma) (0.27.0)\r\n",
      "Requirement already satisfied: click>=8.0.0 in /Users/xuming/Downloads/openai-quickstart-main/.venv/lib/python3.13/site-packages (from typer>=0.9.0->chromadb!=0.5.4,!=0.5.5,<0.6.0,>=0.4.0->langchain_chroma) (8.1.8)\r\n",
      "Requirement already satisfied: shellingham>=1.3.0 in /Users/xuming/Downloads/openai-quickstart-main/.venv/lib/python3.13/site-packages (from typer>=0.9.0->chromadb!=0.5.4,!=0.5.5,<0.6.0,>=0.4.0->langchain_chroma) (1.5.4)\r\n",
      "Requirement already satisfied: mypy-extensions>=0.3.0 in /Users/xuming/Downloads/openai-quickstart-main/.venv/lib/python3.13/site-packages (from typing-inspect<1,>=0.4.0->dataclasses-json<0.7,>=0.5.7->langchain) (1.0.0)\r\n",
      "Requirement already satisfied: httptools>=0.6.3 in /Users/xuming/Downloads/openai-quickstart-main/.venv/lib/python3.13/site-packages (from uvicorn[standard]>=0.18.3->chromadb!=0.5.4,!=0.5.5,<0.6.0,>=0.4.0->langchain_chroma) (0.6.4)\r\n",
      "Requirement already satisfied: python-dotenv>=0.13 in /Users/xuming/Downloads/openai-quickstart-main/.venv/lib/python3.13/site-packages (from uvicorn[standard]>=0.18.3->chromadb!=0.5.4,!=0.5.5,<0.6.0,>=0.4.0->langchain_chroma) (1.0.1)\r\n",
      "Requirement already satisfied: uvloop!=0.15.0,!=0.15.1,>=0.14.0 in /Users/xuming/Downloads/openai-quickstart-main/.venv/lib/python3.13/site-packages (from uvicorn[standard]>=0.18.3->chromadb!=0.5.4,!=0.5.5,<0.6.0,>=0.4.0->langchain_chroma) (0.21.0)\r\n",
      "Requirement already satisfied: watchfiles>=0.13 in /Users/xuming/Downloads/openai-quickstart-main/.venv/lib/python3.13/site-packages (from uvicorn[standard]>=0.18.3->chromadb!=0.5.4,!=0.5.5,<0.6.0,>=0.4.0->langchain_chroma) (1.0.3)\r\n",
      "Requirement already satisfied: websockets>=10.4 in /Users/xuming/Downloads/openai-quickstart-main/.venv/lib/python3.13/site-packages (from uvicorn[standard]>=0.18.3->chromadb!=0.5.4,!=0.5.5,<0.6.0,>=0.4.0->langchain_chroma) (11.0.3)\r\n",
      "Requirement already satisfied: sniffio>=1.1 in /Users/xuming/Downloads/openai-quickstart-main/.venv/lib/python3.13/site-packages (from anyio->httpx>=0.27.0->chromadb!=0.5.4,!=0.5.5,<0.6.0,>=0.4.0->langchain_chroma) (1.3.1)\r\n",
      "Requirement already satisfied: cachetools<6.0,>=2.0.0 in /Users/xuming/Downloads/openai-quickstart-main/.venv/lib/python3.13/site-packages (from google-auth>=1.0.1->kubernetes>=28.1.0->chromadb!=0.5.4,!=0.5.5,<0.6.0,>=0.4.0->langchain_chroma) (5.5.0)\r\n",
      "Requirement already satisfied: pyasn1-modules>=0.2.1 in /Users/xuming/Downloads/openai-quickstart-main/.venv/lib/python3.13/site-packages (from google-auth>=1.0.1->kubernetes>=28.1.0->chromadb!=0.5.4,!=0.5.5,<0.6.0,>=0.4.0->langchain_chroma) (0.4.1)\r\n",
      "Requirement already satisfied: rsa<5,>=3.1.4 in /Users/xuming/Downloads/openai-quickstart-main/.venv/lib/python3.13/site-packages (from google-auth>=1.0.1->kubernetes>=28.1.0->chromadb!=0.5.4,!=0.5.5,<0.6.0,>=0.4.0->langchain_chroma) (4.9)\r\n",
      "Requirement already satisfied: filelock in /Users/xuming/Downloads/openai-quickstart-main/.venv/lib/python3.13/site-packages (from huggingface-hub<1.0,>=0.16.4->tokenizers<=0.20.3,>=0.13.2->chromadb!=0.5.4,!=0.5.5,<0.6.0,>=0.4.0->langchain_chroma) (3.16.1)\r\n",
      "Requirement already satisfied: fsspec>=2023.5.0 in /Users/xuming/Downloads/openai-quickstart-main/.venv/lib/python3.13/site-packages (from huggingface-hub<1.0,>=0.16.4->tokenizers<=0.20.3,>=0.13.2->chromadb!=0.5.4,!=0.5.5,<0.6.0,>=0.4.0->langchain_chroma) (2024.12.0)\r\n",
      "Requirement already satisfied: zipp>=3.20 in /Users/xuming/Downloads/openai-quickstart-main/.venv/lib/python3.13/site-packages (from importlib-metadata<=8.5.0,>=6.0->opentelemetry-api>=1.2.0->chromadb!=0.5.4,!=0.5.5,<0.6.0,>=0.4.0->langchain_chroma) (3.21.0)\r\n",
      "Requirement already satisfied: mdurl~=0.1 in /Users/xuming/Downloads/openai-quickstart-main/.venv/lib/python3.13/site-packages (from markdown-it-py>=2.2.0->rich>=10.11.0->chromadb!=0.5.4,!=0.5.5,<0.6.0,>=0.4.0->langchain_chroma) (0.1.2)\r\n",
      "Requirement already satisfied: humanfriendly>=9.1 in /Users/xuming/Downloads/openai-quickstart-main/.venv/lib/python3.13/site-packages (from coloredlogs->onnxruntime>=1.14.1->chromadb!=0.5.4,!=0.5.5,<0.6.0,>=0.4.0->langchain_chroma) (10.0)\r\n",
      "Requirement already satisfied: mpmath<1.4,>=1.1.0 in /Users/xuming/Downloads/openai-quickstart-main/.venv/lib/python3.13/site-packages (from sympy->onnxruntime>=1.14.1->chromadb!=0.5.4,!=0.5.5,<0.6.0,>=0.4.0->langchain_chroma) (1.3.0)\r\n",
      "Requirement already satisfied: pyasn1<0.7.0,>=0.4.6 in /Users/xuming/Downloads/openai-quickstart-main/.venv/lib/python3.13/site-packages (from pyasn1-modules>=0.2.1->google-auth>=1.0.1->kubernetes>=28.1.0->chromadb!=0.5.4,!=0.5.5,<0.6.0,>=0.4.0->langchain_chroma) (0.6.1)\r\n",
      "Installing collected packages: langchain-core\r\n",
      "  Attempting uninstall: langchain-core\r\n",
      "    Found existing installation: langchain-core 0.3.28\r\n",
      "    Uninstalling langchain-core-0.3.28:\r\n",
      "      Successfully uninstalled langchain-core-0.3.28\r\n",
      "\u001B[31mERROR: pip's dependency resolver does not currently take into account all the packages that are installed. This behaviour is the source of the following dependency conflicts.\r\n",
      "langchain-openai 0.2.14 requires langchain-core<0.4.0,>=0.3.27, but you have langchain-core 0.2.43 which is incompatible.\u001B[0m\u001B[31m\r\n",
      "\u001B[0mSuccessfully installed langchain-core-0.2.43\r\n",
      "Note: you may need to restart the kernel to use updated packages.\n"
     ]
    }
   ],
   "execution_count": 1
  },
  {
   "cell_type": "code",
   "id": "cd733f0ba788c5ed",
   "metadata": {
    "ExecuteTime": {
     "end_time": "2024-12-27T04:19:27.523680Z",
     "start_time": "2024-12-27T04:19:27.520908Z"
    }
   },
   "source": [
    "import os\n",
    "\n",
    "os.environ[\"LANGCHAIN_TRACING_V2\"] = \"true\"\n",
    "os.environ[\"LANGCHAIN_API_KEY\"] = \"key"\n",
    "os.environ[\"OPENAI_API_KEY\"] = \"key"\n",
    "os.environ[\"OPENAI_BASE_URL\"] = \"https://api.xxxxx.net/v1\"\n"
   ],
   "outputs": [],
   "execution_count": 2
  },
  {
   "cell_type": "code",
   "id": "e0a97a90bc88ee7c",
   "metadata": {
    "ExecuteTime": {
     "end_time": "2024-12-27T04:19:32.052006Z",
     "start_time": "2024-12-27T04:19:27.614630Z"
    }
   },
   "source": [
    "pip install -qU langchain-openai"
   ],
   "outputs": [
    {
     "name": "stdout",
     "output_type": "stream",
     "text": [
      "\u001B[31mERROR: pip's dependency resolver does not currently take into account all the packages that are installed. This behaviour is the source of the following dependency conflicts.\r\n",
      "langchain-text-splitters 0.2.0 requires langchain-core<0.3.0,>=0.2.0, but you have langchain-core 0.3.28 which is incompatible.\r\n",
      "langchain 0.2.0 requires langchain-core<0.3.0,>=0.2.0, but you have langchain-core 0.3.28 which is incompatible.\r\n",
      "langchain-experimental 0.0.59 requires langchain-core<0.3,>=0.2, but you have langchain-core 0.3.28 which is incompatible.\r\n",
      "langchain-community 0.2.0 requires langchain-core<0.3.0,>=0.2.0, but you have langchain-core 0.3.28 which is incompatible.\u001B[0m\u001B[31m\r\n",
      "\u001B[0mNote: you may need to restart the kernel to use updated packages.\n"
     ]
    }
   ],
   "execution_count": 3
  },
  {
   "cell_type": "code",
   "id": "b360269e1a9116c4",
   "metadata": {
    "ExecuteTime": {
     "end_time": "2024-12-27T04:19:32.830246Z",
     "start_time": "2024-12-27T04:19:32.059502Z"
    }
   },
   "source": [
    "import getpass\n",
    "import os\n",
    "\n",
    "#os.environ[\"OPENAI_API_KEY\"] = getpass.getpass()\n",
    "\n",
    "from langchain_openai import ChatOpenAI\n",
    "\n",
    "llm = ChatOpenAI(model=\"gpt-4o-mini\")"
   ],
   "outputs": [],
   "execution_count": 4
  },
  {
   "cell_type": "code",
   "id": "9d23b6bb7b6feed8",
   "metadata": {
    "ExecuteTime": {
     "end_time": "2024-12-27T04:19:47.597256Z",
     "start_time": "2024-12-27T04:19:32.838121Z"
    }
   },
   "source": [
    "import bs4\n",
    "from langchain import hub\n",
    "from langchain_chroma import Chroma\n",
    "from langchain_community.document_loaders import WebBaseLoader\n",
    "from langchain_core.output_parsers import StrOutputParser\n",
    "from langchain_core.runnables import RunnablePassthrough\n",
    "from langchain_openai import OpenAIEmbeddings\n",
    "from langchain_text_splitters import RecursiveCharacterTextSplitter\n",
    "\n",
    "# Load, chunk and index the contents of the blog.\n",
    "loader = WebBaseLoader(\n",
    "    web_paths=(\"https://lilianweng.github.io/posts/2023-03-15-prompt-engineering/\",),\n",
    "    bs_kwargs=dict(\n",
    "        parse_only=bs4.SoupStrainer(\n",
    "            class_=(\"post-content\", \"post-title\", \"post-header\")\n",
    "        )\n",
    "    ),\n",
    ")\n",
    "docs = loader.load()\n",
    "\n",
    "text_splitter = RecursiveCharacterTextSplitter(chunk_size=1000, chunk_overlap=200)\n",
    "splits = text_splitter.split_documents(docs)\n",
    "vectorstore = Chroma.from_documents(documents=splits, embedding=OpenAIEmbeddings())\n",
    "\n",
    "# Retrieve and generate using the relevant snippets of the blog.\n",
    "retriever = vectorstore.as_retriever()\n",
    "prompt = hub.pull(\"takatost/conversation-title-generator\")\n",
    "\n",
    "\n",
    "def format_docs(docs):\n",
    "    return \"\\n\\n\".join(doc.page_content for doc in docs)\n",
    "\n",
    "\n",
    "rag_chain = (\n",
    "    {\"context\": retriever | format_docs, \"question\": RunnablePassthrough()}\n",
    "    | prompt\n",
    "    | llm\n",
    "    | StrOutputParser()\n",
    ")\n",
    "\n",
    "# 流式生成回答\n",
    "for chunk in rag_chain.stream(\"什么是 is Task Decomposition?\"):\n",
    "    print(chunk, end=\"\", flush=True)\n",
    "\n",
    "# 流式生成回答\n",
    "for chunk in rag_chain.stream(\"什么是 ToT?\"):\n",
    "    print(chunk, end=\"\", flush=True)\n",
    "    \n",
    "# 流式生成回答\n",
    "for chunk in rag_chain.stream(\"什么是Prompt Engineering?\"):\n",
    "    print(chunk, end=\"\", flush=True)  \n",
    "    \n",
    "# 流式生成回答\n",
    "for chunk in rag_chain.stream(\"什么是互联网?\"):\n",
    "    print(chunk, end=\"\", flush=True)    \n",
    "\n",
    "#rag_chain.invoke(\"什么是 Self-Reflection?\")"
   ],
   "outputs": [
    {
     "name": "stderr",
     "output_type": "stream",
     "text": [
      "/Users/xuming/Downloads/openai-quickstart-main/.venv/lib/python3.13/site-packages/langchain/hub.py:86: DeprecationWarning: The `langchainhub sdk` is deprecated.\n",
      "Please use the `langsmith sdk` instead:\n",
      "  pip install langsmith\n",
      "Use the `pull_prompt` method.\n",
      "  res_dict = client.pull_repo(owner_repo_commit)\n"
     ]
    },
    {
     "name": "stdout",
     "output_type": "stream",
     "text": [
      "{\n",
      "  \"Language Type\": \"The user's input is written in pure Chinese\",\n",
      "  \"Your Reasoning\": \"The language of my output must be pure Chinese.\",\n",
      "  \"Your Output\": \"询问任务分解的定义\"\n",
      "}{\n",
      "  \"Language Type\": \"The user's input is written in pure Chinese\",\n",
      "  \"Your Reasoning\": \"The language of my output must be纯中文.\",\n",
      "  \"Your Output\": \"询问ToT的含义\"\n",
      "}{\n",
      "  \"Language Type\": \"The user's input is written in pure Chinese\",\n",
      "  \"Your Reasoning\": \"The language of my output must be pure Chinese.\",\n",
      "  \"Your Output\": \"询问Prompt Engineering的定义\"\n",
      "}{\n",
      "  \"Language Type\": \"The user's input is written in pure Chinese\",\n",
      "  \"Your Reasoning\": \"The language of my output must be pure Chinese.\",\n",
      "  \"Your Output\": \"询问互联网的定义\"\n",
      "}"
     ]
    }
   ],
   "execution_count": 5
  },
  {
   "cell_type": "code",
   "id": "2af0ad9a378ee438",
   "metadata": {
    "ExecuteTime": {
     "end_time": "2024-12-27T04:19:47.607623Z",
     "start_time": "2024-12-27T04:19:47.604580Z"
    }
   },
   "source": [
    "# cleanup\n",
    "vectorstore.delete_collection()"
   ],
   "outputs": [],
   "execution_count": 6
  }
 ],
 "metadata": {
  "kernelspec": {
   "display_name": "Python 3 (ipykernel)",
   "language": "python",
   "name": "python3"
  },
  "language_info": {
   "codemirror_mode": {
    "name": "ipython",
    "version": 3
   },
   "file_extension": ".py",
   "mimetype": "text/x-python",
   "name": "python",
   "nbconvert_exporter": "python",
   "pygments_lexer": "ipython3",
   "version": "3.13.1"
  }
 },
 "nbformat": 4,
 "nbformat_minor": 5
}
